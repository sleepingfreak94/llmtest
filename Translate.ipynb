{
  "nbformat": 4,
  "nbformat_minor": 0,
  "metadata": {
    "colab": {
      "provenance": [],
      "authorship_tag": "ABX9TyM1/qjgPgefvMlaLqfv/IgC",
      "include_colab_link": true
    },
    "kernelspec": {
      "name": "python3",
      "display_name": "Python 3"
    },
    "language_info": {
      "name": "python"
    }
  },
  "cells": [
    {
      "cell_type": "markdown",
      "metadata": {
        "id": "view-in-github",
        "colab_type": "text"
      },
      "source": [
        "<a href=\"https://colab.research.google.com/github/sleepingfreak94/llmtest/blob/main/Translate.ipynb\" target=\"_parent\"><img src=\"https://colab.research.google.com/assets/colab-badge.svg\" alt=\"Open In Colab\"/></a>"
      ]
    },
    {
      "cell_type": "code",
      "execution_count": null,
      "metadata": {
        "id": "fjFyEskAj0Hp"
      },
      "outputs": [],
      "source": [
        "!pip install -q google-genai\n"
      ]
    },
    {
      "cell_type": "code",
      "source": [
        "!pip install -q google-genai\n",
        "\n",
        "from google.colab import userdata\n",
        "import os\n",
        "\n",
        "# Get from Colab's Secrets\n",
        "os.environ[\"GOOGLE_API_KEY\"] = userdata.get('GOOGLE_API_KEY')\n",
        "\n",
        "from google import genai\n",
        "client = genai.Client()\n",
        "\n",
        "english_text = \"Hello, how are you?\"\n",
        "resp = client.models.generate_content(\n",
        "    model=\"gemini-2.0-flash\",\n",
        "    contents=f'Translate the following English text to Hindi: \"{english_text}\"'\n",
        ")\n",
        "\n",
        "print(resp.text)\n"
      ],
      "metadata": {
        "colab": {
          "base_uri": "https://localhost:8080/"
        },
        "id": "miXyq1PykFFD",
        "outputId": "91f5fc74-baa5-4830-c9af-a9bd73e1120a"
      },
      "execution_count": null,
      "outputs": [
        {
          "output_type": "stream",
          "name": "stdout",
          "text": [
            "The most common and natural translation of \"Hello, how are you?\" in Hindi is:\n",
            "\n",
            "**नमस्ते, आप कैसे हैं?** (Namaste, aap kaise hain?)\n",
            "\n",
            "Here's a breakdown:\n",
            "\n",
            "*   **नमस्ते (Namaste):** Hello (a respectful greeting)\n",
            "*   **आप (Aap):** You (formal and respectful)\n",
            "*   **कैसे हैं (Kaise hain):** How are (you)\n",
            "\n",
            "Here are some other, slightly less common, alternatives, depending on the context:\n",
            "\n",
            "*   **नमस्कार, क्या हाल है?** (Namaskar, kya haal hai?) - A bit more informal than \"Namaste, aap kaise hain?\"\n",
            "*   **हेलो, कैसे हो?** (Hello, kaise ho?) - More informal and usually used with friends and family. Using \"aap\" is always safer.\n",
            "\n",
            "Therefore, **नमस्ते, आप कैसे हैं?** is the best general translation.\n",
            "\n"
          ]
        }
      ]
    }
  ]
}